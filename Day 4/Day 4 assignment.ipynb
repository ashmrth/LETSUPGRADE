{
 "cells": [
  {
   "cell_type": "markdown",
   "metadata": {
    "ExecuteTime": {
     "end_time": "2020-12-31T14:50:16.779120Z",
     "start_time": "2020-12-31T14:50:16.765119Z"
    }
   },
   "source": [
    "<h1>Eigenvalues and Eigenvectors</h1>\n",
    "\n",
    "Eigen vector of a square matrix A is a vector represented by a matrix X \n",
    "such that when X is multiplied with matrix A, \n",
    "then the direction of the resultant matrix remains same as vector X.\n",
    "\n",
    "The corresponding eigenvalue, denoted by λ, is the factor by which the eigenvector is scaled. \n",
    "\n",
    "**AX = λX**,\n",
    "\n",
    "where A is any arbitrary matrix, λ are eigen values and X is an eigen vector corresponding to each eigen value.\n",
    "\n",
    "**Syntax** : w,v = np.linalg.eig()\n",
    "\n",
    "**Return** : w : eigen values\n",
    "         v : eigen vectors\n",
    "\n",
    "Application\n",
    "Whenever there is a complex system having large number of dimensions with a large number of data, \n",
    "eigenvectors and eigenvalues concepts help in transforming the data in a set of most important \n",
    "dimensions (principal components). \n",
    "This will result in processing the data in a faster manner. "
   ]
  },
  {
   "cell_type": "code",
   "execution_count": 51,
   "metadata": {
    "ExecuteTime": {
     "end_time": "2020-12-31T16:41:36.250915Z",
     "start_time": "2020-12-31T16:41:36.238898Z"
    }
   },
   "outputs": [
    {
     "name": "stdout",
     "output_type": "stream",
     "text": [
      "Printing the Eigen values of the given square array:\n",
      " [69.10887538 13.89112462]\n",
      "Printing the Eigenvectors of the given square array:\n",
      " [[ 0.84343263 -0.6390431 ]\n",
      " [ 0.53723496  0.76917093]]\n"
     ]
    }
   ],
   "source": [
    "import numpy as np \n",
    "a = np.array([[50, 30], [23, 33]])\n",
    "eig_Va, eig_Ve = np.linalg.eig(a) \n",
    "\n",
    "print(\"Printing the Eigen values of the given square array:\\n\", eig_Va)\n",
    "print(\"Printing the Eigenvectors of the given square array:\\n\", eig_Ve)"
   ]
  },
  {
   "cell_type": "markdown",
   "metadata": {
    "ExecuteTime": {
     "end_time": "2020-12-30T15:48:10.369895Z",
     "start_time": "2020-12-30T15:48:10.354864Z"
    }
   },
   "source": [
    "<h1>digitize()</h1>\n",
    "\n",
    "With the help of np.digitize() method, we can get the indices of the bins \n",
    "to which the each value is belongs to an array by using np.digitize() method.\n",
    "\n",
    "**Syntax** : np.digitize(Array, Bin, Right)\n",
    "\n",
    "**Return** : Return an array of indices of the bins."
   ]
  },
  {
   "cell_type": "code",
   "execution_count": 52,
   "metadata": {
    "ExecuteTime": {
     "end_time": "2020-12-31T16:41:36.265897Z",
     "start_time": "2020-12-31T16:41:36.252897Z"
    }
   },
   "outputs": [
    {
     "name": "stdout",
     "output_type": "stream",
     "text": [
      "[1 2 3 4]\n"
     ]
    }
   ],
   "source": [
    "import numpy as np \n",
    "a = np.array([1.23, 2.4, 3.6, 4.8]) \n",
    "bins = np.array([1.0, 1.3, 2.5, 4.0, 10.0]) \n",
    "b = np.digitize(a, bins) \n",
    "\n",
    "print(b)"
   ]
  },
  {
   "cell_type": "markdown",
   "metadata": {
    "ExecuteTime": {
     "end_time": "2020-12-31T14:52:12.884230Z",
     "start_time": "2020-12-31T14:52:12.875185Z"
    }
   },
   "source": [
    "<h1>repeat()</h1>\n",
    "\n",
    "numpy.repeat(a, repeats, axis=None)<br>\n",
    "Repeat elements of an array.<br>\n",
    "\n",
    "Parameters<br>\n",
    "a : array_like **Input array.**    <br> \n",
    "\n",
    "**repeats** : int or array of ints<br>\n",
    "The number of repetitions for each element. repeats is broadcasted to fit the shape of the given axis.<br>\n",
    "        \n",
    "**axis** : int, optional<br>\n",
    "The axis along which to repeat values. By default, use the flattened input array, <br>\n",
    "and return a flat output array.<br>\n",
    "\n",
    "**Returns**<br>\n",
    "repeated_array : ndarray<br>\n",
    "Output array which has the same shape as a, except along the given axis."
   ]
  },
  {
   "cell_type": "code",
   "execution_count": 53,
   "metadata": {
    "ExecuteTime": {
     "end_time": "2020-12-31T16:41:36.282926Z",
     "start_time": "2020-12-31T16:41:36.268899Z"
    }
   },
   "outputs": [
    {
     "name": "stdout",
     "output_type": "stream",
     "text": [
      "[[2 3 4]\n",
      " [2 3 4]\n",
      " [2 3 4]\n",
      " [2 3 4]]\n"
     ]
    }
   ],
   "source": [
    "import numpy as np\n",
    "a = np.repeat([[2,3,4],[2,3,4]],2, axis=0)\n",
    "print(a)"
   ]
  },
  {
   "cell_type": "markdown",
   "metadata": {},
   "source": [
    "<h1>squeeze()</h1>\n",
    "\n",
    "numpy.squeeze(a, axis=None)<br>\n",
    "Remove single-dimensional entries from the shape of an array.<br>\n",
    "\n",
    "**Parameters**<br>\n",
    "a : array_like<br>\n",
    "\n",
    "**Input data.**<br>\n",
    "**axis** : None or int or tuple of ints, optional<br>\n",
    "Selects a subset of the single-dimensional entries in the shape. If an axis is selected with <br>\n",
    "shape entry greater than one, an error is raised.<br>\n",
    "\n",
    "**Returns**<br>\n",
    "**squeezed** : ndarray<br>\n",
    "The input array, but with all or a subset of the dimensions of length 1 removed. <br>\n",
    "This is always a itself or a view into a. <br>\n",
    "Note that if all axes are squeezed, the result is a 0d array <br>\n",
    "and not a scalar.\n",
    "\n",
    "**Raises** : ValueError<br>\n",
    "If axis is not None, and an axis being squeezed is not of length 1"
   ]
  },
  {
   "cell_type": "code",
   "execution_count": 54,
   "metadata": {
    "ExecuteTime": {
     "end_time": "2020-12-31T16:41:36.298896Z",
     "start_time": "2020-12-31T16:41:36.283899Z"
    }
   },
   "outputs": [
    {
     "name": "stdout",
     "output_type": "stream",
     "text": [
      "Input array :  [[[2 2 2]\n",
      "  [2 2 2]]]\n",
      "Shape of input array :  (1, 2, 3)\n",
      "output squeezed array :  [[2 2 2]\n",
      " [2 2 2]]\n",
      "Shape of output array :  (2, 3)\n"
     ]
    }
   ],
   "source": [
    "import numpy as np \n",
    "\n",
    "in_arr = np.array([[[2, 2, 2], [2, 2, 2]]]) \n",
    "\n",
    "print (\"Input array : \", in_arr)  \n",
    "print(\"Shape of input array : \", in_arr.shape)   \n",
    "  \n",
    "out_arr = np.squeeze(in_arr)  \n",
    "  \n",
    "print (\"output squeezed array : \", out_arr) \n",
    "print(\"Shape of output array : \", out_arr.shape)"
   ]
  },
  {
   "cell_type": "markdown",
   "metadata": {},
   "source": [
    "<h1>linspace()</h1>\n",
    "\n",
    "**syntax()** <br>\n",
    "numpy.linspace(start,stop,num = 50,endpoint = True,retstep = False,dtype = None)\n",
    "\n",
    "-> start  : [optional] start of interval range. By default start = 0<br>\n",
    "-> stop   : end of interval range<br>\n",
    "-> restep : If True, return (samples, step). By deflut restep = False<br>\n",
    "-> num    : [int, optional] No. of samples to generate<br>\n",
    "-> dtype  : type of output array<br>\n",
    "\n",
    "**Return** :<br>\n",
    "-> ndarray<br>\n",
    "-> step : [float, optional], if restep = True<br>"
   ]
  },
  {
   "cell_type": "code",
   "execution_count": 55,
   "metadata": {
    "ExecuteTime": {
     "end_time": "2020-12-31T16:41:36.457897Z",
     "start_time": "2020-12-31T16:41:36.300896Z"
    }
   },
   "outputs": [
    {
     "data": {
      "text/plain": [
       "(-0.2, 1.8)"
      ]
     },
     "execution_count": 55,
     "metadata": {},
     "output_type": "execute_result"
    },
    {
     "data": {
      "image/png": "[encoded data removed]",
      "text/plain": [
       "<Figure size 432x288 with 1 Axes>"
      ]
     },
     "metadata": {
      "needs_background": "light"
     },
     "output_type": "display_data"
    }
   ],
   "source": [
    "import numpy as np \n",
    "import pylab as p\n",
    "x1 = np.linspace(0, 2, 10, endpoint = False) \n",
    "y1 = np.ones(10) \n",
    "  \n",
    "p.plot(x1, y1, '*') \n",
    "p.xlim(-0.2, 1.8) "
   ]
  },
  {
   "cell_type": "markdown",
   "metadata": {},
   "source": [
    " <h1>clip()</h1>\n",
    "\n",
    "**Syntax** : numpy.clip(a, a_min, a_max, out=None)<br>\n",
    "\n",
    "**Parameters :**<br>\n",
    "**a** : Array containing elements to clip.<br>\n",
    "\n",
    "**a_min** : Minimum value.<br>\n",
    "–> If None, clipping is not performed on lower interval edge. Not more than one of a_min and a_max may be None.<br>\n",
    "\n",
    "**a_max** : Maximum value.<br>\n",
    "–> If None, clipping is not performed on upper interval edge. Not more than one of a_min and a_max may be None.<br>\n",
    "–> If a_min or a_max are array_like, then the three arrays will be broadcasted to match their shapes.<br>\n",
    "**out** : Results will be placed in this array. It may be the input array for in-place clipping. out must be of the right shape to hold the output. Its type is preserved.<br>\n",
    "**Return** : clipped_array"
   ]
  },
  {
   "cell_type": "code",
   "execution_count": 56,
   "metadata": {
    "ExecuteTime": {
     "end_time": "2020-12-31T16:41:36.473896Z",
     "start_time": "2020-12-31T16:41:36.458897Z"
    }
   },
   "outputs": [
    {
     "name": "stdout",
     "output_type": "stream",
     "text": [
      "Input array :  [1, 2, 3, 4, 5, 6, 7, 8]\n",
      "Output array :  [1 2 3 4 5 6 6 6]\n"
     ]
    }
   ],
   "source": [
    "import numpy as np \n",
    "  \n",
    "in_array = [1, 2, 3, 4, 5, 6, 7, 8 ] \n",
    "print (\"Input array : \", in_array) \n",
    "  \n",
    "out_array = np.clip(in_array, a_min = 1, a_max = 6) \n",
    "print (\"Output array : \", out_array) "
   ]
  },
  {
   "cell_type": "markdown",
   "metadata": {
    "ExecuteTime": {
     "end_time": "2020-12-31T15:13:04.943949Z",
     "start_time": "2020-12-31T15:13:04.924950Z"
    }
   },
   "source": [
    "<h1>extract()</h1>\n",
    "\n",
    "**Syntax**: numpy.extract(condition, array)<br>\n",
    "\n",
    "Parameters :<br>\n",
    "**array**     : Input array. User apply conditions on input_array elements<br>\n",
    "**condition** : [array_like]Condition on the basis of which user extract elements. \n",
    "      Applying condition on input_array, if we print condition, it will return an array\n",
    "      filled with either True or False. Array elements are extracted from the Indices having \n",
    "      True value.<br>\n",
    "**Returns** :<br>\n",
    "Array elements that satisfy the condition."
   ]
  },
  {
   "cell_type": "code",
   "execution_count": 57,
   "metadata": {
    "ExecuteTime": {
     "end_time": "2020-12-31T16:41:36.488898Z",
     "start_time": "2020-12-31T16:41:36.476898Z"
    }
   },
   "outputs": [
    {
     "name": "stdout",
     "output_type": "stream",
     "text": [
      "Original array : \n",
      " [[0 1]\n",
      " [2 3]\n",
      " [4 5]\n",
      " [6 7]\n",
      " [8 9]]\n",
      "\n",
      "Array Condition : \n",
      " [[ True False]\n",
      " [False False]\n",
      " [ True False]\n",
      " [False False]\n",
      " [ True False]]\n",
      "\n",
      "Elements that satisfies the condition: \n",
      " [0 4 8]\n"
     ]
    }
   ],
   "source": [
    "import numpy as np\n",
    "\n",
    "array = np.arange(10).reshape(5, 2)\n",
    "print(\"Original array : \\n\", array)\n",
    "\n",
    "condition = np.mod(array, 4) == 0\n",
    "\n",
    "# This will show element status of satisfying condition\n",
    "print(\"\\nArray Condition : \\n\", condition)\n",
    "\n",
    "# This will return elements that satisy condition \"a\" condition\n",
    "print(\"\\nElements that satisfies the condition: \\n\",\n",
    "      np.extract(condition, array))"
   ]
  },
  {
   "cell_type": "markdown",
   "metadata": {},
   "source": [
    "<h1>argpartition()</h1><br>\n",
    "argpartition() function is used to create a indirect partitioned copy of input array with its elements rearranged in such a way that the value of the element in k-th position is in the position it would be in a sorted array. All elements smaller than the k-th element are moved before this element and all equal or greater are moved behind it. The ordering of the elements in the two partitions is undefined.It returns an array of indices of the same shape as arr, i.e arr[index_array] yields a partition of arr.<br>\n",
    "\n",
    "**Syntax** : numpy.argpartition(arr, kth, axis=-1, kind=’introselect’, order=None)\n",
    "\n",
    "**Parameters** :<br>\n",
    "    **arr** : [array_like] Input array.<br>\n",
    "    **kth** : [int or sequence of ints ] Element index to partition by.<br>\n",
    "    **axis** : [int or None] Axis along which to sort. If None, the array is flattened before sorting. The default is -1, which sorts along the last axis.<br>\n",
    "    **kind** : Selection algorithm. Default is ‘introselect’.<br>\n",
    "    **order** : [str or list of str] When arr is an array with fields defined, this argument specifies which fields to compare first, second, etc.<br>\n",
    "\n",
    "**Return** : [index_array, ndarray] Array of indices that partition arr along the specified axis."
   ]
  },
  {
   "cell_type": "code",
   "execution_count": 58,
   "metadata": {
    "ExecuteTime": {
     "end_time": "2020-12-31T16:41:36.504897Z",
     "start_time": "2020-12-31T16:41:36.492899Z"
    }
   },
   "outputs": [
    {
     "name": "stdout",
     "output_type": "stream",
     "text": [
      "Input array :  [2 0 1 5 4 3]\n",
      "Output partitioned array indices:  [1 2 0 3 4 5]\n"
     ]
    }
   ],
   "source": [
    "import numpy as np \n",
    "  \n",
    "# input array \n",
    "in_arr = np.array([ 2, 0,  1, 5, 4, 3]) \n",
    "print (\"Input array : \", in_arr)  \n",
    "  \n",
    "out_arr = np.argpartition(in_arr, (0, 2)) \n",
    "print (\"Output partitioned array indices: \", out_arr) "
   ]
  },
  {
   "cell_type": "markdown",
   "metadata": {
    "ExecuteTime": {
     "end_time": "2020-12-31T15:44:59.282207Z",
     "start_time": "2020-12-31T15:44:59.262204Z"
    }
   },
   "source": [
    "<h1>setdiff1d()</h1>\n",
    "\n",
    "**Syntax** : numpy.setdiff1d(arr1, arr2, assume_unique = False)\n",
    "\n",
    "**Parameters** :<br>\n",
    "**arr1** : [array_like] Input array.<br>\n",
    "**arr2** : [array_like] Input comparison array.<br>\n",
    "**assume_unique** : [bool] If True, the input arrays are both assumed to be unique, which can speed up the calculation.<br> Default is False.<br>\n",
    "\n",
    "**Return** : [ndarray] 1D array of values in arr1 that are not in arr2. The result is sorted when assume_unique = False, but otherwise only sorted if the input is sorted. "
   ]
  },
  {
   "cell_type": "code",
   "execution_count": 59,
   "metadata": {
    "ExecuteTime": {
     "end_time": "2020-12-31T16:41:36.520897Z",
     "start_time": "2020-12-31T16:41:36.506897Z"
    }
   },
   "outputs": [
    {
     "name": "stdout",
     "output_type": "stream",
     "text": [
      "[2 5 6 7 8]\n"
     ]
    }
   ],
   "source": [
    "import numpy as np  \n",
    "   \n",
    "arr1 = [5, 6, 2, 3, 4, 6, 7, 8] \n",
    "arr2 = [4, 1, 3] \n",
    "   \n",
    "a = np.setdiff1d(arr1, arr2) \n",
    "   \n",
    "print (a) "
   ]
  },
  {
   "cell_type": "markdown",
   "metadata": {},
   "source": [
    "<h1>itemsize()</h1><br>\n",
    "**Syntax** : numpy.ndarray.itemsize(arr)<br>\n",
    "\n",
    "**Parameters** :<br>\n",
    "arr : [array_like] Input array.<br>\n",
    "\n",
    "**Return** : [int] The length of one array element in bytes <br>"
   ]
  },
  {
   "cell_type": "code",
   "execution_count": 60,
   "metadata": {
    "ExecuteTime": {
     "end_time": "2020-12-31T16:41:36.535896Z",
     "start_time": "2020-12-31T16:41:36.522898Z"
    }
   },
   "outputs": [
    {
     "name": "stdout",
     "output_type": "stream",
     "text": [
      "8\n"
     ]
    }
   ],
   "source": [
    "import numpy as np \n",
    "arr = np.array([1, 2, 3, 4], dtype = np.float64) \n",
    "a = arr.itemsize \n",
    "print (a) "
   ]
  },
  {
   "cell_type": "markdown",
   "metadata": {},
   "source": [
    "<h1>hstack()</h1><br>\n",
    "\n",
    "**Syntax** : numpy.hstack(tup)<br>\n",
    "\n",
    "**Parameters** :<br>\n",
    "**tup** : [sequence of ndarrays] Tuple containing arrays to be stacked. The arrays must have the same shape along all but the second axis.<br>\n",
    "\n",
    "**Return** : [stacked ndarray] The stacked array of the input arrays."
   ]
  },
  {
   "cell_type": "code",
   "execution_count": 61,
   "metadata": {
    "ExecuteTime": {
     "end_time": "2020-12-31T16:41:36.550897Z",
     "start_time": "2020-12-31T16:41:36.537898Z"
    }
   },
   "outputs": [
    {
     "name": "stdout",
     "output_type": "stream",
     "text": [
      "1st Input array : \n",
      " [1 2 3]\n",
      "2nd Input array : \n",
      " [4 5 6]\n",
      "Output horizontally stacked array:\n",
      "  [1 2 3 4 5 6]\n"
     ]
    }
   ],
   "source": [
    "import numpy as np\n",
    "in_arr1 = np.array([ 1, 2, 3] ) \n",
    "print (\"1st Input array : \\n\", in_arr1)  \n",
    "  \n",
    "in_arr2 = np.array([ 4, 5, 6] ) \n",
    "print (\"2nd Input array : \\n\", in_arr2)  \n",
    "\n",
    "out_arr = np.hstack((in_arr1, in_arr2)) \n",
    "print (\"Output horizontally stacked array:\\n \", out_arr) "
   ]
  },
  {
   "cell_type": "markdown",
   "metadata": {},
   "source": [
    "<h1>vstack()</h1>\n",
    "\n",
    "**Syntax** : numpy.vstack(tup)<br>\n",
    "\n",
    "**Parameters** :<br>\n",
    "**tup** : [sequence of ndarrays] Tuple containing arrays to be stacked. The arrays must have the same shape along all but the first axis.<br>\n",
    "\n",
    "**Return** : [stacked ndarray] The stacked array of the input arrays.<br>"
   ]
  },
  {
   "cell_type": "code",
   "execution_count": 62,
   "metadata": {
    "ExecuteTime": {
     "end_time": "2020-12-31T16:41:36.566897Z",
     "start_time": "2020-12-31T16:41:36.552898Z"
    }
   },
   "outputs": [
    {
     "name": "stdout",
     "output_type": "stream",
     "text": [
      "1st Input array : \n",
      " [3 4 3]\n",
      "2nd Input array : \n",
      " [80 90 60]\n",
      "Output vertically stacked array:\n",
      "  [[ 3  4  3]\n",
      " [80 90 60]]\n"
     ]
    }
   ],
   "source": [
    "in_arr1 = np.array([ 3, 4, 3] ) \n",
    "print (\"1st Input array : \\n\", in_arr1)  \n",
    "  \n",
    "in_arr2 = np.array([ 80, 90, 60] ) \n",
    "print (\"2nd Input array : \\n\", in_arr2)  \n",
    "  \n",
    "# Stacking the two arrays vertically \n",
    "out_arr = np.vstack((in_arr1, in_arr2)) \n",
    "print (\"Output vertically stacked array:\\n \", out_arr) "
   ]
  },
  {
   "cell_type": "markdown",
   "metadata": {},
   "source": [
    "<h1>hsplit()</h1>\n",
    "\n",
    "**Syntax** : numpy.hsplit(arr, indices_or_sections)<br>\n",
    "**Parameters** :<br>\n",
    "**arr** : [ndarray] Array to be divided into sub-arrays.<br>\n",
    "**indices_or_sections** : [int or 1-D array] If indices_or_sections is an integer, N, the array will be divided into N equal arrays along axis.<br>\n",
    "If indices_or_sections is a 1-D array of sorted integers, the entries indicate where along axis the array is split\n",
    "Return : [ndarray] A list of sub-arrays. <br>"
   ]
  },
  {
   "cell_type": "code",
   "execution_count": 63,
   "metadata": {
    "ExecuteTime": {
     "end_time": "2020-12-31T16:41:36.581897Z",
     "start_time": "2020-12-31T16:41:36.568898Z"
    }
   },
   "outputs": [
    {
     "name": "stdout",
     "output_type": "stream",
     "text": [
      "[array([[ 0.,  1.],\n",
      "       [ 4.,  5.],\n",
      "       [ 8.,  9.],\n",
      "       [12., 13.]]), array([[ 2.,  3.],\n",
      "       [ 6.,  7.],\n",
      "       [10., 11.],\n",
      "       [14., 15.]])]\n"
     ]
    }
   ],
   "source": [
    "import numpy as np \n",
    "arr = np.arange(16.0).reshape(4, 4) \n",
    "a = np.hsplit(arr, 2) \n",
    "\n",
    "print (a) "
   ]
  },
  {
   "cell_type": "markdown",
   "metadata": {
    "ExecuteTime": {
     "end_time": "2020-12-31T16:12:10.816425Z",
     "start_time": "2020-12-31T16:12:10.800403Z"
    }
   },
   "source": [
    "<h1>vsplit()</h1>\n",
    "\n",
    "**Syntax** : numpy.vsplit(arr, indices_or_sections)<br>\n",
    "**Parameters** :<br>\n",
    "**arr** : [ndarray] Array to be divided into sub-arrays.<br>\n",
    "\n",
    "**indices_or_sections** : [int or 1-D array] If indices_or_sections is an integer, N, the array will be divided into N equal arrays along axis.<br>\n",
    "If indices_or_sections is a 1-D array of sorted integers, the entries indicate where along axis the array is split\n",
    "Return : [ndarray] A list of sub-arrays. <br>"
   ]
  },
  {
   "cell_type": "code",
   "execution_count": 64,
   "metadata": {
    "ExecuteTime": {
     "end_time": "2020-12-31T16:41:36.596899Z",
     "start_time": "2020-12-31T16:41:36.583898Z"
    }
   },
   "outputs": [
    {
     "name": "stdout",
     "output_type": "stream",
     "text": [
      "[array([[0., 1., 2.],\n",
      "       [3., 4., 5.],\n",
      "       [6., 7., 8.]])]\n"
     ]
    }
   ],
   "source": [
    "import numpy as np \n",
    "arr = np.arange(9.0).reshape(3, 3) \n",
    "a = np.vsplit(arr, 1) \n",
    "print (a) "
   ]
  },
  {
   "cell_type": "markdown",
   "metadata": {},
   "source": [
    "<h1> View vs Shallow Copy</h1>\n",
    "\n",
    "A view of a NumPy array is a shallow copy , i.e. it references the same data buffer as the original, so changes to the original data affect the view data and vice versa.\n",
    "\n",
    "A shallow copy constructs a new compound object and then (to the extent possible) inserts references into it to the objects found in the original.\n",
    "\n",
    "A shallow copy means constructing a new collection object and then populating it with references to the child objects found in the original. The copying process does not recurse and therefore won’t create copies of the child objects themselves. In case of shallow copy, a reference of object is copied in other object. It means that any changes made to a copy of object **do reflect** in the original object. "
   ]
  },
  {
   "cell_type": "markdown",
   "metadata": {},
   "source": [
    "<h1> Deep Copy</h1>\n",
    "\n",
    "Deep copy is a process in which the copying process occurs recursively. It means first constructing a new collection object and then recursively populating it with copies of the child objects found in the original. In case of deep copy, a copy of object is copied in other object. It means that any changes made to a copy of object **do not** reflect in the original object."
   ]
  },
  {
   "cell_type": "markdown",
   "metadata": {},
   "source": [
    "<h1>copy()</h1>\n",
    "\n",
    "Syntax : numpy.ndarray.copy(order='C')\n",
    "\n",
    "**Parameters**:<br>\n",
    "**order** : Controls the memory layout of the copy. <br>\n",
    "‘C’ means C-order,<br>\n",
    "‘F’ means F-order,<br>\n",
    "‘A’ means ‘F’ if a is Fortran contiguous, ‘C’ otherwise.<br>\n",
    "‘K’ means match the layout of a as closely as possible. "
   ]
  },
  {
   "cell_type": "code",
   "execution_count": 65,
   "metadata": {
    "ExecuteTime": {
     "end_time": "2020-12-31T16:41:36.612898Z",
     "start_time": "2020-12-31T16:41:36.598898Z"
    }
   },
   "outputs": [
    {
     "name": "stdout",
     "output_type": "stream",
     "text": [
      "y is :\n",
      " [[0 1 2 3]\n",
      " [4 5 6 7]]\n",
      "\n",
      "x is equal to y :\n",
      " [[ True  True  True  True]\n",
      " [ True  True  True  True]]\n"
     ]
    }
   ],
   "source": [
    "import numpy as np   \n",
    "x = np.array([[0, 1, 2, 3], [4, 5, 6, 7]], \n",
    "                                 order ='F')\n",
    "  \n",
    "y = x.copy() \n",
    "print(\"y is :\\n\", y)\n",
    "print(\"\\nx is equal to y :\\n\",x==y)"
   ]
  },
  {
   "cell_type": "markdown",
   "metadata": {},
   "source": [
    "<h1>meshgrid</h1>\n",
    "\n",
    "The numpy.meshgrid function is used to create a rectangular grid out of two given one-dimensional arrays representing the Cartesian indexing or Matrix indexing."
   ]
  },
  {
   "cell_type": "code",
   "execution_count": 66,
   "metadata": {
    "ExecuteTime": {
     "end_time": "2020-12-31T16:41:36.628900Z",
     "start_time": "2020-12-31T16:41:36.615900Z"
    }
   },
   "outputs": [
    {
     "name": "stdout",
     "output_type": "stream",
     "text": [
      "x_1 = \n",
      "[[-4. -3. -2. -1.  0.  1.  2.  3.  4.]\n",
      " [-4. -3. -2. -1.  0.  1.  2.  3.  4.]\n",
      " [-4. -3. -2. -1.  0.  1.  2.  3.  4.]\n",
      " [-4. -3. -2. -1.  0.  1.  2.  3.  4.]\n",
      " [-4. -3. -2. -1.  0.  1.  2.  3.  4.]\n",
      " [-4. -3. -2. -1.  0.  1.  2.  3.  4.]\n",
      " [-4. -3. -2. -1.  0.  1.  2.  3.  4.]\n",
      " [-4. -3. -2. -1.  0.  1.  2.  3.  4.]\n",
      " [-4. -3. -2. -1.  0.  1.  2.  3.  4.]\n",
      " [-4. -3. -2. -1.  0.  1.  2.  3.  4.]\n",
      " [-4. -3. -2. -1.  0.  1.  2.  3.  4.]]\n",
      "y_1 = \n",
      "[[-5. -5. -5. -5. -5. -5. -5. -5. -5.]\n",
      " [-4. -4. -4. -4. -4. -4. -4. -4. -4.]\n",
      " [-3. -3. -3. -3. -3. -3. -3. -3. -3.]\n",
      " [-2. -2. -2. -2. -2. -2. -2. -2. -2.]\n",
      " [-1. -1. -1. -1. -1. -1. -1. -1. -1.]\n",
      " [ 0.  0.  0.  0.  0.  0.  0.  0.  0.]\n",
      " [ 1.  1.  1.  1.  1.  1.  1.  1.  1.]\n",
      " [ 2.  2.  2.  2.  2.  2.  2.  2.  2.]\n",
      " [ 3.  3.  3.  3.  3.  3.  3.  3.  3.]\n",
      " [ 4.  4.  4.  4.  4.  4.  4.  4.  4.]\n",
      " [ 5.  5.  5.  5.  5.  5.  5.  5.  5.]]\n"
     ]
    }
   ],
   "source": [
    "import numpy as np\n",
    "\n",
    "x = np.linspace(-4, 4, 9) \n",
    "y = np.linspace(-5, 5, 11)\n",
    "x_1, y_1 = np.meshgrid(x, y) \n",
    "  \n",
    "print(\"x_1 = \") \n",
    "print(x_1) \n",
    "print(\"y_1 = \") \n",
    "print(y_1) "
   ]
  },
  {
   "cell_type": "markdown",
   "metadata": {
    "ExecuteTime": {
     "end_time": "2020-12-31T16:34:53.454790Z",
     "start_time": "2020-12-31T16:34:53.439770Z"
    }
   },
   "source": [
    "<h1>swapaxes()</h1>\n",
    "\n",
    "With the help of matrix.swapaxes() method, we are able to swap the axes a matrix by using the same method.\n",
    "\n",
    "**Syntax** : matrix.swapaxes()<br>\n",
    "**Return** : Return matrix having interchanged axes <br>"
   ]
  },
  {
   "cell_type": "code",
   "execution_count": 67,
   "metadata": {
    "ExecuteTime": {
     "end_time": "2020-12-31T16:41:36.644897Z",
     "start_time": "2020-12-31T16:41:36.630899Z"
    }
   },
   "outputs": [
    {
     "name": "stdout",
     "output_type": "stream",
     "text": [
      "[[ 4  1]\n",
      " [12  3]]\n"
     ]
    }
   ],
   "source": [
    "import numpy as np       \n",
    "\n",
    "a = np.matrix('[4, 1; 12, 3]') \n",
    "\n",
    "b = a.swapaxes(1,1) \n",
    "   \n",
    "print(b) "
   ]
  },
  {
   "cell_type": "markdown",
   "metadata": {},
   "source": [
    "<h1>column_stack()</h1>\n",
    "\n",
    "**Syntax** : numpy.column_stack(tup)\n",
    "\n",
    "**Parameters** :<br>\n",
    "**tup** : [sequence of ndarrays] Tuple containing arrays to be stacked. The arrays must have the same first dimension.<br>\n",
    "**Return** : [stacked 2-D array] The stacked 2-D array of the input arrays.<br>"
   ]
  },
  {
   "cell_type": "code",
   "execution_count": 68,
   "metadata": {
    "ExecuteTime": {
     "end_time": "2020-12-31T16:41:36.659899Z",
     "start_time": "2020-12-31T16:41:36.647898Z"
    }
   },
   "outputs": [
    {
     "name": "stdout",
     "output_type": "stream",
     "text": [
      "1st Input array : \n",
      " [1 2 3]\n",
      "2nd Input array : \n",
      " [4 5 6]\n",
      "Output stacked array:\n",
      "  [[1 4]\n",
      " [2 5]\n",
      " [3 6]]\n"
     ]
    }
   ],
   "source": [
    "import numpy as np \n",
    " \n",
    "in_arr1 = np.array(( 1, 2, 3 )) \n",
    "print (\"1st Input array : \\n\", in_arr1)  \n",
    "  \n",
    "in_arr2 = np.array(( 4, 5, 6 )) \n",
    "print (\"2nd Input array : \\n\", in_arr2)  \n",
    "\n",
    "out_arr = np.column_stack((in_arr1, in_arr2)) \n",
    "print (\"Output stacked array:\\n \", out_arr) "
   ]
  }
 ],
 "metadata": {
  "kernelspec": {
   "display_name": "Python 3",
   "language": "python",
   "name": "python3"
  },
  "language_info": {
   "codemirror_mode": {
    "name": "ipython",
    "version": 3
   },
   "file_extension": ".py",
   "mimetype": "text/x-python",
   "name": "python",
   "nbconvert_exporter": "python",
   "pygments_lexer": "ipython3",
   "version": "3.8.5"
  },
  "toc": {
   "base_numbering": 1,
   "nav_menu": {},
   "number_sections": true,
   "sideBar": true,
   "skip_h1_title": false,
   "title_cell": "Table of Contents",
   "title_sidebar": "Contents",
   "toc_cell": false,
   "toc_position": {
    "height": "calc(100% - 180px)",
    "left": "10px",
    "top": "150px",
    "width": "259.2px"
   },
   "toc_section_display": true,
   "toc_window_display": false
  }
 },
 "nbformat": 4,
 "nbformat_minor": 4
}
