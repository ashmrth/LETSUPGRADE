{
  "nbformat": 4,
  "nbformat_minor": 0,
  "metadata": {
    "colab": {
      "name": "AISHWARYA_MARATHE_Assignment_DAY_2.ipynb",
      "provenance": [],
      "collapsed_sections": []
    },
    "kernelspec": {
      "name": "python3",
      "display_name": "Python 3"
    }
  },
  "cells": [
    {
      "cell_type": "code",
      "metadata": {
        "id": "NqAEp3oQMFcy",
        "outputId": "4273c206-9234-4fd4-b446-7596edfcf7a6",
        "colab": {
          "base_uri": "https://localhost:8080/"
        }
      },
      "source": [
        "a=[]\n",
        "for i in range(10):\n",
        "  b=int(input('Enter a number : '))\n",
        "  if b%2==0:\n",
        "    a.append(b)\n",
        "print(a)"
      ],
      "execution_count": 3,
      "outputs": [
        {
          "output_type": "stream",
          "text": [
            "Enter a number : 2\n",
            "Enter a number : 3\n",
            "Enter a number : 4\n",
            "Enter a number : 5\n",
            "Enter a number : 6\n",
            "Enter a number : 7\n",
            "Enter a number : 8\n",
            "Enter a number : 9\n",
            "Enter a number : 10\n",
            "Enter a number : 22\n",
            "[2, 4, 6, 8, 10, 22]\n"
          ],
          "name": "stdout"
        }
      ]
    },
    {
      "cell_type": "code",
      "metadata": {
        "id": "41LXmJ_-Nvgo",
        "outputId": "78ae4bad-18a3-4fc7-f921-bf88c852f007",
        "colab": {
          "base_uri": "https://localhost:8080/"
        }
      },
      "source": [
        "# List comprehensions provide a concise way to create lists. \n",
        "# Common applications are to make new lists where each element is the result of some operations applied to each member of another sequence or iterable, \n",
        "# or to create a subsequence of those elements that satisfy a certain condition.\n",
        "\n",
        "# Instead of using\n",
        "squares=[]\n",
        "for x in range(10):\n",
        "  squares.append(x**2)\n",
        "print(squares)\n",
        "\n",
        "# i will use\n",
        "[x ** 2 for x in range(10)]"
      ],
      "execution_count": 28,
      "outputs": [
        {
          "output_type": "stream",
          "text": [
            "[0, 1, 4, 9, 16, 25, 36, 49, 64, 81]\n"
          ],
          "name": "stdout"
        },
        {
          "output_type": "execute_result",
          "data": {
            "text/plain": [
              "[0, 1, 4, 9, 16, 25, 36, 49, 64, 81]"
            ]
          },
          "metadata": {
            "tags": []
          },
          "execution_count": 28
        }
      ]
    },
    {
      "cell_type": "code",
      "metadata": {
        "id": "IX9P-wmLN8Xb",
        "outputId": "b04a4af4-b11f-4cd9-f4ce-c038c41637f7",
        "colab": {
          "base_uri": "https://localhost:8080/"
        }
      },
      "source": [
        "n=int(input(\"Input a number \"))\n",
        "d = dict()\n",
        "\n",
        "for i in range(1,n+1):\n",
        "  d[i]=i*i\n",
        "\t\n",
        "print(d)"
      ],
      "execution_count": 5,
      "outputs": [
        {
          "output_type": "stream",
          "text": [
            "Input a number 4\n",
            "{1: 1, 2: 4, 3: 9, 4: 16}\n"
          ],
          "name": "stdout"
        }
      ]
    },
    {
      "cell_type": "code",
      "metadata": {
        "id": "0bHXrZhmOxVz",
        "outputId": "f951da6c-6c59-483d-892f-a4636bfa6011",
        "colab": {
          "base_uri": "https://localhost:8080/"
        }
      },
      "source": [
        "#Init vars\n",
        "pos=0\n",
        "moves={\"UP\":1j,\n",
        "       \"DOWN\":-1j,\n",
        "       \"LEFT\":-1,\n",
        "       \"RIGHT\":1}\n",
        "\n",
        "#Set inputs\n",
        "data=[\"UP 5\",\n",
        "    \"DOWN 3\",\n",
        "    \"LEFT 3\",\n",
        "    \"RIGHT 2\"]\n",
        "\n",
        "#Move robot on valid moves\n",
        "for inp in data:\n",
        "    parts=inp.split()    \n",
        "    mv=parts[0]\n",
        "    val=parts[1]\n",
        "    print (mv, val)\n",
        "    pos += moves[mv]*int(val)\n",
        "\n",
        "#get distance     \n",
        "print('rounded distance from zero position:', round(abs(pos)))"
      ],
      "execution_count": 20,
      "outputs": [
        {
          "output_type": "stream",
          "text": [
            "UP 5\n",
            "DOWN 3\n",
            "LEFT 3\n",
            "RIGHT 2\n",
            "rounded distance from zero position: 2\n"
          ],
          "name": "stdout"
        }
      ]
    }
  ]
}