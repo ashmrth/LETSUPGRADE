{
 "cells": [
  {
   "cell_type": "code",
   "execution_count": 23,
   "metadata": {
    "ExecuteTime": {
     "end_time": "2020-12-10T13:25:48.761321Z",
     "start_time": "2020-12-10T13:25:48.748322Z"
    }
   },
   "outputs": [
    {
     "name": "stdout",
     "output_type": "stream",
     "text": [
      "Hello\n",
      "Welcome\n",
      "to\n",
      "letsupgrade\n",
      "llo\n",
      "orl\n",
      "HELLO, WORLD!\n"
     ]
    }
   ],
   "source": [
    "#1 Print a string\n",
    "print(\"Hello\")\n",
    "#2 Multiline string\n",
    "print('''Welcome\n",
    "to\n",
    "letsupgrade''')\n",
    "#3 Slicing\n",
    "b = \"Hello, World!\"\n",
    "print(b[2:5])\n",
    "#4 Negative indexing\n",
    "b = \"Hello, World!\"\n",
    "print(b[-5:-2])\n",
    "#5 Upper case\n",
    "print(b.upper())"
   ]
  },
  {
   "cell_type": "code",
   "execution_count": null,
   "metadata": {},
   "outputs": [],
   "source": [
    "lst = [5,6,7,0]\n",
    "#Function 1 Splicing\n",
    "lst[::1]\n",
    "#Function 2 length of list\n",
    "print(len(lst)) \n",
    "#Function 3 addition of element in list\n",
    "lst.append(1)\n",
    "#Function 4 accessing elements from a list\n",
    "print(lst[2])\n",
    "#Function 5 removing element from list\n",
    "lst.remove(5) "
   ]
  },
  {
   "cell_type": "code",
   "execution_count": 27,
   "metadata": {
    "ExecuteTime": {
     "end_time": "2020-12-10T13:29:30.866561Z",
     "start_time": "2020-12-10T13:29:30.850553Z"
    }
   },
   "outputs": [
    {
     "name": "stdout",
     "output_type": "stream",
     "text": [
      "{'brand': 'Ford', 'model': 'Mustang', 'year': 1964}\n",
      "Ford\n",
      "3\n"
     ]
    }
   ],
   "source": [
    "thisdict = {\n",
    "  \"brand\": \"Ford\",\n",
    "  \"model\": \"Mustang\",\n",
    "  \"year\": 1964\n",
    "}\n",
    "#1 print a dictionary\n",
    "print(thisdict)\n",
    "#2 print a key value\n",
    "print(thisdict[\"brand\"])\n",
    "#3 length of a dict\n",
    "print(len(thisdict))\n",
    "#4 No. of Values of dict\n",
    "x = thisdict.values()\n",
    "#5 Items in a dict\n",
    "x = thisdict.items()"
   ]
  }
 ],
 "metadata": {
  "kernelspec": {
   "display_name": "Python 3",
   "language": "python",
   "name": "python3"
  },
  "language_info": {
   "codemirror_mode": {
    "name": "ipython",
    "version": 3
   },
   "file_extension": ".py",
   "mimetype": "text/x-python",
   "name": "python",
   "nbconvert_exporter": "python",
   "pygments_lexer": "ipython3",
   "version": "3.8.3"
  },
  "toc": {
   "base_numbering": 1,
   "nav_menu": {},
   "number_sections": true,
   "sideBar": true,
   "skip_h1_title": false,
   "title_cell": "Table of Contents",
   "title_sidebar": "Contents",
   "toc_cell": false,
   "toc_position": {},
   "toc_section_display": true,
   "toc_window_display": false
  }
 },
 "nbformat": 4,
 "nbformat_minor": 4
}
