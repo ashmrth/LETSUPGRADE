{
  "nbformat": 4,
  "nbformat_minor": 0,
  "metadata": {
    "colab": {
      "name": "AISHWARYA MARATHE Assignment DAY 1.ipynb",
      "provenance": []
    },
    "kernelspec": {
      "name": "python3",
      "display_name": "Python 3"
    }
  },
  "cells": [
    {
      "cell_type": "code",
      "metadata": {
        "id": "yX_jo4GbG96s"
      },
      "source": [
        "1. B. RAINBOW"
      ],
      "execution_count": null,
      "outputs": []
    },
    {
      "cell_type": "code",
      "metadata": {
        "id": "XknHh8z6HSaY",
        "outputId": "023d6405-180d-4888-e8b3-13b2b45f3e9e",
        "colab": {
          "base_uri": "https://localhost:8080/"
        }
      },
      "source": [
        "print('LETS UPGRADE')"
      ],
      "execution_count": 1,
      "outputs": [
        {
          "output_type": "stream",
          "text": [
            "LETS UPGRADE\n"
          ],
          "name": "stdout"
        }
      ]
    },
    {
      "cell_type": "code",
      "metadata": {
        "id": "r-MQfeuTHWf7",
        "outputId": "c14d2c31-023f-4fc3-af74-14a08b785e73",
        "colab": {
          "base_uri": "https://localhost:8080/"
        }
      },
      "source": [
        "CP=input('Enter the Cost price : ')\n",
        "SP=input('Enter the Sales price : ')\n",
        "\n",
        "if CP>SP:\n",
        "  print('LOSS')\n",
        "if SP>CP:\n",
        "  print('PROFIT')\n",
        "else:\n",
        "  print('NEITHER')"
      ],
      "execution_count": 5,
      "outputs": [
        {
          "output_type": "stream",
          "text": [
            "Enter the Cost price : 19\n",
            "Enter the Sales price : 95\n",
            "PROFIT\n"
          ],
          "name": "stdout"
        }
      ]
    },
    {
      "cell_type": "code",
      "metadata": {
        "id": "mkTWRZPGIDxP",
        "outputId": "d8ae45b2-03bf-4e6c-f6e4-ab3b2e53edcf",
        "colab": {
          "base_uri": "https://localhost:8080/"
        }
      },
      "source": [
        "Euro=int(input('Enter the euro value : '))\n",
        "inr = Euro*80\n",
        "print('Value in INR ',inr)"
      ],
      "execution_count": 7,
      "outputs": [
        {
          "output_type": "stream",
          "text": [
            "Enter the euro value : 3\n",
            "Value in INR  240\n"
          ],
          "name": "stdout"
        }
      ]
    }
  ]
}