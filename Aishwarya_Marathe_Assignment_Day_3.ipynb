{
  "nbformat": 4,
  "nbformat_minor": 0,
  "metadata": {
    "colab": {
      "name": "Aishwarya Marathe Assignment Day 3.ipynb",
      "provenance": [],
      "collapsed_sections": []
    },
    "kernelspec": {
      "name": "python3",
      "display_name": "Python 3"
    }
  },
  "cells": [
    {
      "cell_type": "code",
      "metadata": {
        "id": "5zmfY1IJt0ey",
        "outputId": "6c0717a0-5d8a-4442-a86c-33b22448286f",
        "colab": {
          "base_uri": "https://localhost:8080/"
        }
      },
      "source": [
        "import numpy as np\n",
        "np.arange(2,50,3)"
      ],
      "execution_count": 1,
      "outputs": [
        {
          "output_type": "execute_result",
          "data": {
            "text/plain": [
              "array([ 2,  5,  8, 11, 14, 17, 20, 23, 26, 29, 32, 35, 38, 41, 44, 47])"
            ]
          },
          "metadata": {
            "tags": []
          },
          "execution_count": 1
        }
      ]
    },
    {
      "cell_type": "code",
      "metadata": {
        "id": "PAS6uf71ufuq",
        "outputId": "a48ca616-b2e4-4540-97ce-892adea633fd",
        "colab": {
          "base_uri": "https://localhost:8080/"
        }
      },
      "source": [
        "lst1=[1,3,4,5,2]\n",
        "lst2=[2,5,6,1,2]\n",
        "\n",
        "arr1=np.array(lst1)\n",
        "arr2=np.array(lst2)\n",
        "\n",
        "conc=np.concatenate((arr1,arr2),axis=0)\n",
        "print('Concatenated list is ',conc)\n",
        "sort1=np.sort(arr1)\n",
        "sort2=np.sort(arr2)\n",
        "print('Sorted list is :',sort1,sort2)"
      ],
      "execution_count": 20,
      "outputs": [
        {
          "output_type": "stream",
          "text": [
            "Concatenated list is  [1 3 4 5 2 2 5 6 1 2]\n",
            "Sorted list is : [1 2 3 4 5] [1 2 2 5 6]\n"
          ],
          "name": "stdout"
        }
      ]
    },
    {
      "cell_type": "code",
      "metadata": {
        "id": "7Ty_6iSo6Vsm",
        "outputId": "38bc5804-1338-489c-8ef9-284de82f1ad2",
        "colab": {
          "base_uri": "https://localhost:8080/"
        }
      },
      "source": [
        "a = np.arange(16).reshape((4, 4))\n",
        "print(a)\n",
        "print('Dimensions of array a is ',a.ndim,'D array')\n",
        "print('Size of array a is ',a.size,'Elements')"
      ],
      "execution_count": 27,
      "outputs": [
        {
          "output_type": "stream",
          "text": [
            "[[ 0  1  2  3]\n",
            " [ 4  5  6  7]\n",
            " [ 8  9 10 11]\n",
            " [12 13 14 15]]\n",
            "Dimensions of array a is  2 D array\n",
            "Size of array a is  16 Elements\n"
          ],
          "name": "stdout"
        }
      ]
    },
    {
      "cell_type": "code",
      "metadata": {
        "id": "Malf8s9Q7KgZ",
        "outputId": "d80fab6d-9064-45e9-9f70-7d5aa5bb1948",
        "colab": {
          "base_uri": "https://localhost:8080/"
        }
      },
      "source": [
        "import numpy as np\n",
        "a=np.array([1,2,3,4,5])\n",
        "a1=np.expand_dims(a, axis=1)\n",
        "print('Dimensions of array a is ',a.ndim,'D array')\n",
        "print('Dimensions of array a1 is ',a1.ndim,'D array')"
      ],
      "execution_count": 45,
      "outputs": [
        {
          "output_type": "stream",
          "text": [
            "Dimensions of array a is  1 D array\n",
            "Dimensions of array a1 is  2 D array\n"
          ],
          "name": "stdout"
        }
      ]
    },
    {
      "cell_type": "code",
      "metadata": {
        "id": "dAUd20mn9WGw",
        "outputId": "ed52871a-ad1c-4022-fa4f-17c1f668c144",
        "colab": {
          "base_uri": "https://localhost:8080/"
        }
      },
      "source": [
        "import numpy as np\n",
        "a=np.array([1,2,3,4,5])\n",
        "b=np.array([5,4,3,2,1])\n",
        "print(np.hstack((a,b)))\n",
        "print(np.vstack((a,b)))"
      ],
      "execution_count": 50,
      "outputs": [
        {
          "output_type": "stream",
          "text": [
            "[1 2 3 4 5 5 4 3 2 1]\n",
            "[[1 2 3 4 5]\n",
            " [5 4 3 2 1]]\n"
          ],
          "name": "stdout"
        }
      ]
    },
    {
      "cell_type": "code",
      "metadata": {
        "id": "KZcI5WnN96Pm",
        "outputId": "aa371f61-3cc6-4b26-facb-611b03ffdd00",
        "colab": {
          "base_uri": "https://localhost:8080/"
        }
      },
      "source": [
        "import numpy as np\n",
        "a = np.array( [1,2,3,2,1,2,3,2,3,2,1] )\n",
        "print(\"Original array:\")\n",
        "print(a)\n",
        "unique_elements, counts_elements = np.unique(a, return_counts=True)\n",
        "print('Unique elements',unique_elements)\n",
        "print('Count of Unique elements',counts_elements)\n",
        "# print(np.asarray((unique_elements, counts_elements)))"
      ],
      "execution_count": 59,
      "outputs": [
        {
          "output_type": "stream",
          "text": [
            "Original array:\n",
            "[1 2 3 2 1 2 3 2 3 2 1]\n",
            "Unique elements [1 2 3]\n",
            "Count of Unique elements [3 5 3]\n"
          ],
          "name": "stdout"
        }
      ]
    }
  ]
}